{
  "nbformat": 4,
  "nbformat_minor": 0,
  "metadata": {
    "colab": {
      "provenance": [],
      "collapsed_sections": [],
      "authorship_tag": "ABX9TyO00QDS81iKHS1UkJ0g3hw+",
      "include_colab_link": true
    },
    "kernelspec": {
      "name": "python3",
      "display_name": "Python 3"
    },
    "language_info": {
      "name": "python"
    }
  },
  "cells": [
    {
      "cell_type": "markdown",
      "metadata": {
        "id": "view-in-github",
        "colab_type": "text"
      },
      "source": [
        "<a href=\"https://colab.research.google.com/github/tkeldenich/Scikit-Learn_Cross-Validation/blob/main/Scikit_Learn_Cross_Validation.ipynb\" target=\"_parent\"><img src=\"https://colab.research.google.com/assets/colab-badge.svg\" alt=\"Open In Colab\"/></a>"
      ]
    },
    {
      "cell_type": "markdown",
      "source": [
        "# **Cross Validation – THE Tutorial How To Use it – sklearn**"
      ],
      "metadata": {
        "id": "msNEcvqjvHKU"
      }
    },
    {
      "cell_type": "markdown",
      "source": [
        "In this tutorial we will see how to simply use Cross Validation with [Scikit-Learn](https://scikit-learn.org/stable/index.html) and how to use it for prediction.\n",
        "\n",
        "> Cross Validation is a way to ensure that our Machine Learning model is at its best.\n",
        "\n",
        "**There are only 4 steps to perform a Cross Validation**:\n",
        "\n",
        "- create 5 subgroups of our dataset\n",
        "- train a model on 4 subgroups\n",
        "- evaluate the model on the last subgroup\n",
        "- repeat steps 2 and 3 so that all subgroups are evaluated\n",
        "\n",
        "**Here, the Cross Validation will give us, at the end of the workflow, 5 different Machine Learning models.**\n",
        "\n",
        "This multiplicity of models will allow us to have a diversity in the final predictions.\n",
        "\n",
        "Actually, Cross Validation give us the opinion of 5 experts (5 models) instead of only one.\n",
        "\n",
        "*You can choose the number of subgroups created during Cross Validation, be it 2, 3, 5 or 40. The only constraint is to have enough data in each subgroup to get a robust model.*\n",
        "\n",
        "Once we have all these opinions, we’ll have to decide which expert to follow. This is what we will see in this article.\n",
        "\n",
        "Let’s start by loading our data! 🔥"
      ],
      "metadata": {
        "id": "uigHgS_svLPm"
      }
    },
    {
      "cell_type": "markdown",
      "source": [
        "## **Data**"
      ],
      "metadata": {
        "id": "WWAmzMhM9Ww5"
      }
    },
    {
      "cell_type": "markdown",
      "source": [
        "This tutorial is following [our detailed article on learning Machine Learning.](https://inside-machinelearning.com/en/scikit-learn-project-start-ml/)\n",
        "\n",
        "But of course, you can follow this tutorial without having followed the previous one. You only have to download the dataset [winequality-white.csv](https://github.com/tkeldenich/First_Project_with_Scikit-Learn_MachineLearning/blob/main/winequality-white.csv) from [this Github address.](https://github.com/tkeldenich/First_Project_with_Scikit-Learn_MachineLearning/blob/main/winequality-white.csv)\n",
        "\n",
        "Our dataset ranks wines according to their quality. The objective is to predict the quality level of wines from their features (acidity, alcohol level, pH, etc).\n",
        "\n",
        "Once the dataset is loaded in your working environment, open it with the Pandas library:\n"
      ],
      "metadata": {
        "id": "mcTRCNOu9Wu4"
      }
    },
    {
      "cell_type": "code",
      "source": [
        "import pandas as pd\n",
        "\n",
        "df = pd.read_csv(\"winequality-white.csv\", sep=\";\")\n",
        "df.head(3)"
      ],
      "metadata": {
        "colab": {
          "base_uri": "https://localhost:8080/",
          "height": 203
        },
        "id": "_B4gsJJ-iAEN",
        "outputId": "4307c538-d226-429c-9781-acf1a22bc867"
      },
      "execution_count": null,
      "outputs": [
        {
          "output_type": "execute_result",
          "data": {
            "text/plain": [
              "   fixed acidity  volatile acidity  citric acid  residual sugar  chlorides  \\\n",
              "0            7.0              0.27         0.36            20.7      0.045   \n",
              "1            6.3              0.30         0.34             1.6      0.049   \n",
              "2            8.1              0.28         0.40             6.9      0.050   \n",
              "\n",
              "   free sulfur dioxide  total sulfur dioxide  density    pH  sulphates  \\\n",
              "0                 45.0                 170.0   1.0010  3.00       0.45   \n",
              "1                 14.0                 132.0   0.9940  3.30       0.49   \n",
              "2                 30.0                  97.0   0.9951  3.26       0.44   \n",
              "\n",
              "   alcohol  quality  \n",
              "0      8.8        6  \n",
              "1      9.5        6  \n",
              "2     10.1        6  "
            ],
            "text/html": [
              "\n",
              "  <div id=\"df-f0cc1c82-c468-4acd-8002-090af094c623\">\n",
              "    <div class=\"colab-df-container\">\n",
              "      <div>\n",
              "<style scoped>\n",
              "    .dataframe tbody tr th:only-of-type {\n",
              "        vertical-align: middle;\n",
              "    }\n",
              "\n",
              "    .dataframe tbody tr th {\n",
              "        vertical-align: top;\n",
              "    }\n",
              "\n",
              "    .dataframe thead th {\n",
              "        text-align: right;\n",
              "    }\n",
              "</style>\n",
              "<table border=\"1\" class=\"dataframe\">\n",
              "  <thead>\n",
              "    <tr style=\"text-align: right;\">\n",
              "      <th></th>\n",
              "      <th>fixed acidity</th>\n",
              "      <th>volatile acidity</th>\n",
              "      <th>citric acid</th>\n",
              "      <th>residual sugar</th>\n",
              "      <th>chlorides</th>\n",
              "      <th>free sulfur dioxide</th>\n",
              "      <th>total sulfur dioxide</th>\n",
              "      <th>density</th>\n",
              "      <th>pH</th>\n",
              "      <th>sulphates</th>\n",
              "      <th>alcohol</th>\n",
              "      <th>quality</th>\n",
              "    </tr>\n",
              "  </thead>\n",
              "  <tbody>\n",
              "    <tr>\n",
              "      <th>0</th>\n",
              "      <td>7.0</td>\n",
              "      <td>0.27</td>\n",
              "      <td>0.36</td>\n",
              "      <td>20.7</td>\n",
              "      <td>0.045</td>\n",
              "      <td>45.0</td>\n",
              "      <td>170.0</td>\n",
              "      <td>1.0010</td>\n",
              "      <td>3.00</td>\n",
              "      <td>0.45</td>\n",
              "      <td>8.8</td>\n",
              "      <td>6</td>\n",
              "    </tr>\n",
              "    <tr>\n",
              "      <th>1</th>\n",
              "      <td>6.3</td>\n",
              "      <td>0.30</td>\n",
              "      <td>0.34</td>\n",
              "      <td>1.6</td>\n",
              "      <td>0.049</td>\n",
              "      <td>14.0</td>\n",
              "      <td>132.0</td>\n",
              "      <td>0.9940</td>\n",
              "      <td>3.30</td>\n",
              "      <td>0.49</td>\n",
              "      <td>9.5</td>\n",
              "      <td>6</td>\n",
              "    </tr>\n",
              "    <tr>\n",
              "      <th>2</th>\n",
              "      <td>8.1</td>\n",
              "      <td>0.28</td>\n",
              "      <td>0.40</td>\n",
              "      <td>6.9</td>\n",
              "      <td>0.050</td>\n",
              "      <td>30.0</td>\n",
              "      <td>97.0</td>\n",
              "      <td>0.9951</td>\n",
              "      <td>3.26</td>\n",
              "      <td>0.44</td>\n",
              "      <td>10.1</td>\n",
              "      <td>6</td>\n",
              "    </tr>\n",
              "  </tbody>\n",
              "</table>\n",
              "</div>\n",
              "      <button class=\"colab-df-convert\" onclick=\"convertToInteractive('df-f0cc1c82-c468-4acd-8002-090af094c623')\"\n",
              "              title=\"Convert this dataframe to an interactive table.\"\n",
              "              style=\"display:none;\">\n",
              "        \n",
              "  <svg xmlns=\"http://www.w3.org/2000/svg\" height=\"24px\"viewBox=\"0 0 24 24\"\n",
              "       width=\"24px\">\n",
              "    <path d=\"M0 0h24v24H0V0z\" fill=\"none\"/>\n",
              "    <path d=\"M18.56 5.44l.94 2.06.94-2.06 2.06-.94-2.06-.94-.94-2.06-.94 2.06-2.06.94zm-11 1L8.5 8.5l.94-2.06 2.06-.94-2.06-.94L8.5 2.5l-.94 2.06-2.06.94zm10 10l.94 2.06.94-2.06 2.06-.94-2.06-.94-.94-2.06-.94 2.06-2.06.94z\"/><path d=\"M17.41 7.96l-1.37-1.37c-.4-.4-.92-.59-1.43-.59-.52 0-1.04.2-1.43.59L10.3 9.45l-7.72 7.72c-.78.78-.78 2.05 0 2.83L4 21.41c.39.39.9.59 1.41.59.51 0 1.02-.2 1.41-.59l7.78-7.78 2.81-2.81c.8-.78.8-2.07 0-2.86zM5.41 20L4 18.59l7.72-7.72 1.47 1.35L5.41 20z\"/>\n",
              "  </svg>\n",
              "      </button>\n",
              "      \n",
              "  <style>\n",
              "    .colab-df-container {\n",
              "      display:flex;\n",
              "      flex-wrap:wrap;\n",
              "      gap: 12px;\n",
              "    }\n",
              "\n",
              "    .colab-df-convert {\n",
              "      background-color: #E8F0FE;\n",
              "      border: none;\n",
              "      border-radius: 50%;\n",
              "      cursor: pointer;\n",
              "      display: none;\n",
              "      fill: #1967D2;\n",
              "      height: 32px;\n",
              "      padding: 0 0 0 0;\n",
              "      width: 32px;\n",
              "    }\n",
              "\n",
              "    .colab-df-convert:hover {\n",
              "      background-color: #E2EBFA;\n",
              "      box-shadow: 0px 1px 2px rgba(60, 64, 67, 0.3), 0px 1px 3px 1px rgba(60, 64, 67, 0.15);\n",
              "      fill: #174EA6;\n",
              "    }\n",
              "\n",
              "    [theme=dark] .colab-df-convert {\n",
              "      background-color: #3B4455;\n",
              "      fill: #D2E3FC;\n",
              "    }\n",
              "\n",
              "    [theme=dark] .colab-df-convert:hover {\n",
              "      background-color: #434B5C;\n",
              "      box-shadow: 0px 1px 3px 1px rgba(0, 0, 0, 0.15);\n",
              "      filter: drop-shadow(0px 1px 2px rgba(0, 0, 0, 0.3));\n",
              "      fill: #FFFFFF;\n",
              "    }\n",
              "  </style>\n",
              "\n",
              "      <script>\n",
              "        const buttonEl =\n",
              "          document.querySelector('#df-f0cc1c82-c468-4acd-8002-090af094c623 button.colab-df-convert');\n",
              "        buttonEl.style.display =\n",
              "          google.colab.kernel.accessAllowed ? 'block' : 'none';\n",
              "\n",
              "        async function convertToInteractive(key) {\n",
              "          const element = document.querySelector('#df-f0cc1c82-c468-4acd-8002-090af094c623');\n",
              "          const dataTable =\n",
              "            await google.colab.kernel.invokeFunction('convertToInteractive',\n",
              "                                                     [key], {});\n",
              "          if (!dataTable) return;\n",
              "\n",
              "          const docLinkHtml = 'Like what you see? Visit the ' +\n",
              "            '<a target=\"_blank\" href=https://colab.research.google.com/notebooks/data_table.ipynb>data table notebook</a>'\n",
              "            + ' to learn more about interactive tables.';\n",
              "          element.innerHTML = '';\n",
              "          dataTable['output_type'] = 'display_data';\n",
              "          await google.colab.output.renderOutput(dataTable, element);\n",
              "          const docLink = document.createElement('div');\n",
              "          docLink.innerHTML = docLinkHtml;\n",
              "          element.appendChild(docLink);\n",
              "        }\n",
              "      </script>\n",
              "    </div>\n",
              "  </div>\n",
              "  "
            ]
          },
          "metadata": {},
          "execution_count": 35
        }
      ]
    },
    {
      "cell_type": "markdown",
      "source": [
        "Cross Validation (CV) divides our dataset into subgroups.\n",
        "\n",
        "To make sure that these subgroups have a fair distribution, we first shuffle the dataset with the `sample(frac=1)` function:"
      ],
      "metadata": {
        "id": "hzo73yiyvjyp"
      }
    },
    {
      "cell_type": "code",
      "source": [
        "df = df.sample(frac=1).reset_index(drop=True)"
      ],
      "metadata": {
        "id": "6_9c0ZgCKIu7"
      },
      "execution_count": null,
      "outputs": []
    },
    {
      "cell_type": "markdown",
      "source": [
        "`reset_index(drop=True)` reset the index of each line after the shuffling.\n",
        "\n",
        "Next, we prepare our features (X) and label (Y) for the Cross Validation:"
      ],
      "metadata": {
        "id": "BAA1Zc7lvrPM"
      }
    },
    {
      "cell_type": "code",
      "source": [
        "X = df.drop(columns='quality')\n",
        "y = df['quality']"
      ],
      "metadata": {
        "id": "5c9xrhoPKJ8H"
      },
      "execution_count": null,
      "outputs": []
    },
    {
      "cell_type": "markdown",
      "source": [
        "*Note: Here we don’t need train and test data. Indeed in Cross Validation, each subgroup is used once for testing and N-1 times for training. It is, therefore, not necessary to indicate train and test set because all subgroups go through these stages.*"
      ],
      "metadata": {
        "id": "Oje8pb-wvuws"
      }
    },
    {
      "cell_type": "markdown",
      "source": [
        "## **Cross Validation Score**"
      ],
      "metadata": {
        "id": "8v6Q1MCoGyQd"
      }
    },
    {
      "cell_type": "markdown",
      "source": [
        "Let’s load the best performing model from [our article for learning Machine Learning](https://inside-machinelearning.com/en/scikit-learn-project-start-ml/): Decision Tree."
      ],
      "metadata": {
        "id": "ItH2bS7ivxGy"
      }
    },
    {
      "cell_type": "code",
      "source": [
        "from sklearn import tree\n",
        "\n",
        "decisionTree = tree.DecisionTreeClassifier()"
      ],
      "metadata": {
        "id": "5c4ZIO7FHcyA"
      },
      "execution_count": null,
      "outputs": []
    },
    {
      "cell_type": "markdown",
      "source": [
        "With this model we had obtained an accuracy of 60%.\n",
        "\n",
        "**Can we do better?**\n",
        "\n",
        "We can see that directly with sklearn `cross_val_score` function:"
      ],
      "metadata": {
        "id": "AEGApv0Pv1zj"
      }
    },
    {
      "cell_type": "code",
      "source": [
        "from sklearn.model_selection import cross_val_score\n",
        "\n",
        "scores = cross_val_score(decisionTree, X, y, cv=10)"
      ],
      "metadata": {
        "id": "lXDoY9XqwBrc"
      },
      "execution_count": null,
      "outputs": []
    },
    {
      "cell_type": "markdown",
      "source": [
        "For this evaluation we’ve chosen to perform a Cross Validation on 10 subgroups by indicating `cv=10`.\n",
        "\n",
        "This allow us to train 10 different models of Decision Tree.\n",
        "\n",
        "Let’s display the result of these 10 models:"
      ],
      "metadata": {
        "id": "q4BTzYRav4Km"
      }
    },
    {
      "cell_type": "code",
      "source": [
        "scores"
      ],
      "metadata": {
        "colab": {
          "base_uri": "https://localhost:8080/"
        },
        "id": "fc7P1krPHgzc",
        "outputId": "79d0d177-ef0c-4153-b4fb-d6d953e9ab65"
      },
      "execution_count": null,
      "outputs": [
        {
          "output_type": "stream",
          "name": "stderr",
          "text": [
            "/usr/local/lib/python3.7/dist-packages/sklearn/model_selection/_split.py:680: UserWarning: The least populated class in y has only 5 members, which is less than n_splits=10.\n",
            "  UserWarning,\n"
          ]
        },
        {
          "output_type": "execute_result",
          "data": {
            "text/plain": [
              "array([0.63265306, 0.57959184, 0.64693878, 0.6122449 , 0.65510204,\n",
              "       0.62040816, 0.59183673, 0.63265306, 0.63599182, 0.58282209])"
            ]
          },
          "metadata": {},
          "execution_count": 41
        }
      ]
    },
    {
      "cell_type": "markdown",
      "source": [
        "**Most of the models have an accuracy above 60%. This is a very good signal!**\n",
        "\n",
        "Let’s calculate the mean to know the real potential of this Cross Validation:"
      ],
      "metadata": {
        "id": "0NupQcxBwHTs"
      }
    },
    {
      "cell_type": "code",
      "source": [
        "scores.mean()"
      ],
      "metadata": {
        "colab": {
          "base_uri": "https://localhost:8080/"
        },
        "id": "K2kba-n1KaJ0",
        "outputId": "4008633b-692b-4873-de76-18537bc1972e"
      },
      "execution_count": null,
      "outputs": [
        {
          "output_type": "execute_result",
          "data": {
            "text/plain": [
              "0.6190242477359041"
            ]
          },
          "metadata": {},
          "execution_count": 42
        }
      ]
    },
    {
      "cell_type": "markdown",
      "source": [
        "61.9% of accuracy, that’s 1.9% more than the score obtained in the first tutorial.\n",
        "\n",
        "The problem is that `cross_val_score` does not recover the trained models.\n",
        "\n",
        "**This function only test Cross Validation on our dataset and our model.**\n",
        "\n",
        "Actually, `cross_val_score` enables Data Scientists and Machine Learning Engineers to know if it is worth implementing Cross Validation.\n",
        "\n"
      ],
      "metadata": {
        "id": "q2YeQ_cVv63_"
      }
    },
    {
      "cell_type": "markdown",
      "source": [
        "## **Training models with Cross Validation**"
      ],
      "metadata": {
        "id": "XiNeNHr9LlVT"
      }
    },
    {
      "cell_type": "markdown",
      "source": [
        "Now that we know Cross Validation will improve our model, we can get down to business!\n",
        "\n",
        "First, I suggest to divide our dataset in two:\n",
        "\n",
        "- Data for Cross Validation, which we will call `train_test`\n",
        "- Data for testing the final models, which we will call `gtest` for global test\n",
        "\n",
        "To separate our dataset we use the `train_test_split` function (`gtest` will be composed of 10% of our dataset):"
      ],
      "metadata": {
        "id": "MzxB0yoQwd8Q"
      }
    },
    {
      "cell_type": "code",
      "source": [
        "from sklearn.model_selection import train_test_split\n",
        "\n",
        "X_train_test, X_val, y_train_test, y_val = train_test_split(X, y, test_size=0.10)"
      ],
      "metadata": {
        "id": "-NTit3cENezr"
      },
      "execution_count": null,
      "outputs": []
    },
    {
      "cell_type": "markdown",
      "source": [
        "Then let’s initialize our classifier:"
      ],
      "metadata": {
        "id": "XQMbgYDPwlVD"
      }
    },
    {
      "cell_type": "code",
      "source": [
        "from sklearn import tree\n",
        "\n",
        "decisionTree = tree.DecisionTreeClassifier()"
      ],
      "metadata": {
        "id": "uKvsomekQPqn"
      },
      "execution_count": null,
      "outputs": []
    },
    {
      "cell_type": "markdown",
      "source": [
        "And now we can implement the REAL Cross Validation.\n",
        "\n",
        "For this, it’s simple, we use the `cross_validate` function.\n",
        "\n",
        "This function returns several informations:\n",
        "\n",
        "- `fit_time` – training time for the N models\n",
        "- `test_score` – accuracy of the N models\n",
        "- `score_time` – scoring time for the N models\n",
        "- `estimator` (when return_estimator=True) – the N trained models\n",
        "\n",
        "We run Cross Validation with 10 subgroups:"
      ],
      "metadata": {
        "id": "WSHm004cwoZj"
      }
    },
    {
      "cell_type": "code",
      "source": [
        "from sklearn.model_selection import cross_validate\n",
        "\n",
        "cv_results = cross_validate(decisionTree, X_train_test, y_train_test, cv=10, return_estimator=True)"
      ],
      "metadata": {
        "colab": {
          "base_uri": "https://localhost:8080/"
        },
        "id": "s42Js61QMMuL",
        "outputId": "f6260e8f-8bdb-41c6-9957-158b44c95f17"
      },
      "execution_count": null,
      "outputs": [
        {
          "output_type": "stream",
          "name": "stderr",
          "text": [
            "/usr/local/lib/python3.7/dist-packages/sklearn/model_selection/_split.py:680: UserWarning: The least populated class in y has only 5 members, which is less than n_splits=10.\n",
            "  UserWarning,\n"
          ]
        }
      ]
    },
    {
      "cell_type": "markdown",
      "source": [
        "We can now display the score for each of the 10 trained models:"
      ],
      "metadata": {
        "id": "4CuHNRNXwweN"
      }
    },
    {
      "cell_type": "code",
      "source": [
        "cv_results['test_score']"
      ],
      "metadata": {
        "colab": {
          "base_uri": "https://localhost:8080/"
        },
        "id": "1f5PYnk7M4N-",
        "outputId": "42cf98d9-be63-4c37-8fe3-20785263344e"
      },
      "execution_count": null,
      "outputs": [
        {
          "output_type": "execute_result",
          "data": {
            "text/plain": [
              "array([0.6031746 , 0.59183673, 0.61904762, 0.59183673, 0.60997732,\n",
              "       0.63038549, 0.59637188, 0.58276644, 0.61136364, 0.65227273])"
            ]
          },
          "metadata": {},
          "execution_count": 180
        }
      ]
    },
    {
      "cell_type": "markdown",
      "source": [
        "And calculate the total average :"
      ],
      "metadata": {
        "id": "kPSDLsWpwx4o"
      }
    },
    {
      "cell_type": "code",
      "source": [
        "cv_results['test_score'].mean()"
      ],
      "metadata": {
        "colab": {
          "base_uri": "https://localhost:8080/"
        },
        "id": "XkrlPbPENsca",
        "outputId": "466d8d43-fdf9-4794-f9b1-d4968163f7e3"
      },
      "execution_count": null,
      "outputs": [
        {
          "output_type": "execute_result",
          "data": {
            "text/plain": [
              "0.608903318903319"
            ]
          },
          "metadata": {},
          "execution_count": 181
        }
      ]
    },
    {
      "cell_type": "markdown",
      "source": [
        "We’ve gained 0.8% for the test data. It’s not much but it’s an acceptable score.\n",
        "\n",
        "What about the global test data that the model has never seen?\n",
        "\n",
        "To measure our Cross Validation, we will go through each of our models (stored in the variable `cv_results['estimator']`) and calculate the score for `X_gtest` and `y_gtest`:"
      ],
      "metadata": {
        "id": "UdnYctT8wzh6"
      }
    },
    {
      "cell_type": "code",
      "source": [
        "val_score = []\n",
        "for i in range(len(cv_results['estimator'])):\n",
        "  val_score.append(cv_results['estimator'][i].score(X_val, y_val))"
      ],
      "metadata": {
        "id": "FptKbCmxNVPu"
      },
      "execution_count": null,
      "outputs": []
    },
    {
      "cell_type": "markdown",
      "source": [
        "Here is the final score of the Cross Validation:"
      ],
      "metadata": {
        "id": "LCdd748Cw3zf"
      }
    },
    {
      "cell_type": "code",
      "source": [
        "sum(val_score) / len(val_score)"
      ],
      "metadata": {
        "colab": {
          "base_uri": "https://localhost:8080/"
        },
        "id": "GSsjLyRnOgO2",
        "outputId": "54df10e8-9bf0-49d5-ce09-e991e454dbe7"
      },
      "execution_count": null,
      "outputs": [
        {
          "output_type": "execute_result",
          "data": {
            "text/plain": [
              "0.6181632653061225"
            ]
          },
          "metadata": {},
          "execution_count": 183
        }
      ]
    },
    {
      "cell_type": "markdown",
      "source": [
        "We gain 1.8% of precision compared to our basic model! This is huge! 🎉\n",
        "\n",
        "1.8% improvement in accuracy may seem not enough from the point of view of a novice in Machine Learning but any expert knows it is a huge improvement!\n",
        "\n",
        "**Indeed, Machine Learning competitions are sometimes played with only 0.001% difference in accuracy.**"
      ],
      "metadata": {
        "id": "i6JhCYZQw6Ej"
      }
    },
    {
      "cell_type": "markdown",
      "source": [
        "## **Predicting with Cross Validation**"
      ],
      "metadata": {
        "id": "LM9zvPioxasC"
      }
    },
    {
      "cell_type": "markdown",
      "source": [
        "How to use CV models for predictions?\n",
        "\n",
        "There are different approaches depending on the practitioner:\n",
        "\n",
        "- **Take the best of the N models and use it directly**\n",
        "- **Take the best of the N models and re-train it on the whole data set**\n",
        "- **Keep the N models and rely on the opinion of the majority**\n",
        "\n",
        "*I want to make it clear that there is no wrong way to do this. Each method is worthwhile and will be useful depending on your particular context. The best option is to test by yourself!*\n",
        "\n",
        "After reading [our article to learn Machine Learning](https://inside-machinelearning.com/en/scikit-learn-project-start-ml/), you should be able to use the first two options.\n",
        "\n",
        "**I propose to detail the 3rd option which is the most complex, especially since it is divided into two techniques.**\n",
        "\n",
        "In the following parts, we’ll predict the result for the first wine of `X_gtest`."
      ],
      "metadata": {
        "id": "__oDsguPxeiH"
      }
    },
    {
      "cell_type": "markdown",
      "source": [
        "### **Compute prediction for raw results**"
      ],
      "metadata": {
        "id": "zceBFHMfUpd3"
      }
    },
    {
      "cell_type": "markdown",
      "source": [
        "Scikit-Learn offers two options to perform prediction:\n",
        "\n",
        "- `predict()` – the raw results, in our case the quality of wine: 3, 4, 5, 6, 7, 8 or 9\n",
        "- `predict_proba()` – the results as probabilities\n",
        "\n",
        "In this part, we use the `predict()` option.\n",
        "\n",
        "We predict, for each of the 10 models, the quality of the first wine of our `X_gtest` data:\n"
      ],
      "metadata": {
        "id": "H36WrlU5xBi6"
      }
    },
    {
      "cell_type": "code",
      "source": [
        "result = []\n",
        "for i in range(len(cv_results['estimator'])):\n",
        "  result.append(int(cv_results['estimator'][i].predict(X_val.iloc[:1])))"
      ],
      "metadata": {
        "id": "XiC8h8GROp_I"
      },
      "execution_count": null,
      "outputs": []
    },
    {
      "cell_type": "markdown",
      "source": [
        "Each of these results are stored in a list, which can be displayed:"
      ],
      "metadata": {
        "id": "H8NEzDZByDvH"
      }
    },
    {
      "cell_type": "code",
      "source": [
        "result"
      ],
      "metadata": {
        "colab": {
          "base_uri": "https://localhost:8080/"
        },
        "id": "5R_v_zP6O5I2",
        "outputId": "79e518af-0588-4d40-fbe6-90a94b8f397e"
      },
      "execution_count": null,
      "outputs": [
        {
          "output_type": "execute_result",
          "data": {
            "text/plain": [
              "[5, 5, 5, 5, 5, 6, 6, 6, 5, 5]"
            ]
          },
          "metadata": {},
          "execution_count": 202
        }
      ]
    },
    {
      "cell_type": "markdown",
      "source": [
        "The objective now is to take the prediction that has appeared the most often.\n",
        "\n",
        "Here, we see that most of our models conclude that the wine is of quality 5, when three of them predicted 6.\n",
        "\n",
        "We extract the most frequently predicted value…"
      ],
      "metadata": {
        "id": "bYxIG6jdyG94"
      }
    },
    {
      "cell_type": "code",
      "source": [
        "max(set(result), key=result.count)"
      ],
      "metadata": {
        "colab": {
          "base_uri": "https://localhost:8080/"
        },
        "id": "RxW1inRVPOuQ",
        "outputId": "450ff704-e9e3-4ff0-e7ff-fb60a8fee22e"
      },
      "execution_count": null,
      "outputs": [
        {
          "output_type": "execute_result",
          "data": {
            "text/plain": [
              "5"
            ]
          },
          "metadata": {},
          "execution_count": 201
        }
      ]
    },
    {
      "cell_type": "markdown",
      "source": [
        "… which we can compared with the real value :"
      ],
      "metadata": {
        "id": "IAkeKvnJyOq6"
      }
    },
    {
      "cell_type": "code",
      "source": [
        "y_val.iloc[0]"
      ],
      "metadata": {
        "colab": {
          "base_uri": "https://localhost:8080/"
        },
        "id": "cK560J_cP7Et",
        "outputId": "f2955bb5-9be8-4555-cd2a-9d899e809ec6"
      },
      "execution_count": null,
      "outputs": [
        {
          "output_type": "execute_result",
          "data": {
            "text/plain": [
              "5"
            ]
          },
          "metadata": {},
          "execution_count": 203
        }
      ]
    },
    {
      "cell_type": "markdown",
      "source": [
        "Here the real value is well predicted! The majority was right!"
      ],
      "metadata": {
        "id": "7c5HqCP5yQQf"
      }
    },
    {
      "cell_type": "markdown",
      "source": [
        "### **Compute prediction for probabilities**"
      ],
      "metadata": {
        "id": "4fDRePyKUki9"
      }
    },
    {
      "cell_type": "markdown",
      "source": [
        "Finally, I’d like to use the `predict_proba()` option which is the most complex of all.\n",
        "\n",
        "For our Machine Learning model, 7 levels of wine quality are possible: 3, 4, 5, 6, 7, 8 or 9.\n",
        "\n",
        "**With `predict_proba()` we get the probability that our wine is of each quality. For example: 20% that the wine is of quality 3, 8% for quality 4, 58% for quality 5, etc.**\n",
        "\n",
        "With our Cross Validation, we’ll obtain 10 lists of probabilities.\n",
        "\n",
        "**To calculate the prediction of the Cross Validation, we’ll sum all these probabilities together and divide the result by the number of subgroups, 10.**\n",
        "\n",
        "Actually, we average all our probabilities to determine the quality with the highest overall probability.\n",
        "\n",
        "First, we sum the probabilities together:"
      ],
      "metadata": {
        "id": "IIoABiKiyRsr"
      }
    },
    {
      "cell_type": "code",
      "source": [
        "import numpy as np\n",
        "\n",
        "result_proba = cv_results['estimator'][0].predict_proba(X_val.iloc[:1])\n",
        "for i in range(1, len(cv_results['estimator'])):\n",
        "  result_proba =+ np.add(result_proba, cv_results['estimator'][i].predict_proba(X_val.iloc[:1]))"
      ],
      "metadata": {
        "id": "wRnwcR5vRdDx"
      },
      "execution_count": null,
      "outputs": []
    },
    {
      "cell_type": "markdown",
      "source": [
        "Then we calculate the average:"
      ],
      "metadata": {
        "id": "NcvMbNTuyknT"
      }
    },
    {
      "cell_type": "code",
      "source": [
        "result_proba = result_proba/10"
      ],
      "metadata": {
        "id": "qkysL-OXyrcv"
      },
      "execution_count": null,
      "outputs": []
    },
    {
      "cell_type": "markdown",
      "source": [
        "We extract the index with the highest probability:"
      ],
      "metadata": {
        "id": "CigizQRIymhQ"
      }
    },
    {
      "cell_type": "code",
      "source": [
        "np.argmax(result_proba)"
      ],
      "metadata": {
        "colab": {
          "base_uri": "https://localhost:8080/"
        },
        "id": "WG9gZ4GvUgID",
        "outputId": "97341b58-1e47-4028-ef62-14b1e014508c"
      },
      "execution_count": null,
      "outputs": [
        {
          "output_type": "execute_result",
          "data": {
            "text/plain": [
              "2"
            ]
          },
          "metadata": {},
          "execution_count": 321
        }
      ]
    },
    {
      "cell_type": "markdown",
      "source": [
        "Here, the index is 2, it indicates a quality of 5.\n",
        "\n",
        "Indeed, if we take our list of possible results `[3, 4, 5, 6, 7, 8, 9]`, the first index being 0, quality 3, the second corresponds to quality 5:"
      ],
      "metadata": {
        "id": "rj-iKQfmys5O"
      }
    },
    {
      "cell_type": "code",
      "source": [
        "wine_quality = [3, 4, 5, 6, 7, 8, 9]\n",
        "wine_quality[np.argmax(result_proba)]"
      ],
      "metadata": {
        "colab": {
          "base_uri": "https://localhost:8080/"
        },
        "id": "5FaE7LdiQZ_T",
        "outputId": "a8dbaf25-f34b-40d9-a726-e3630ee47882"
      },
      "execution_count": null,
      "outputs": [
        {
          "output_type": "execute_result",
          "data": {
            "text/plain": [
              "5"
            ]
          },
          "metadata": {},
          "execution_count": 322
        }
      ]
    },
    {
      "cell_type": "markdown",
      "source": [
        "Here, the end result for the raw prediction and the probabilistic prediction remains the same, but keep in mind that this is not always the case."
      ],
      "metadata": {
        "id": "0FFP1KL2yxJn"
      }
    },
    {
      "cell_type": "markdown",
      "source": [
        "## **Conclusion**"
      ],
      "metadata": {
        "id": "wFpK3CDXyoBw"
      }
    },
    {
      "cell_type": "markdown",
      "source": [
        "**In this article, we learned how to improve the accuracy of our Machine Learning model by 1.8% and how to use Cross Validation for prediction.**\n",
        "\n",
        "Other methods exist to improve a Machine Learning model like:\n",
        "\n",
        "- [Normalize data](Normalize data)\n",
        "- Changing the hyperparameters of the models\n",
        "- Data Augmentation\n",
        "- Ensemble methods\n",
        "\n",
        "**One last thing: Cross Validation is not to be taken lightly. It is a technique used in 2022 by the best experts to push Machine Learning models to their maximum performance.**\n",
        "\n",
        "Cross Validation is even used for Deep Learning!\n",
        "\n",
        "Soon, an article will be published on the subject.\n",
        "\n",
        "**In the meantime, if you want to stay informed, don’t hesitate to subscribe to our newsletter** 😉"
      ],
      "metadata": {
        "id": "-kXaljdky1gM"
      }
    }
  ]
}